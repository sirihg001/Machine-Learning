{
 "cells": [
  {
   "cell_type": "markdown",
   "metadata": {},
   "source": [
    "\n",
    "1. Run weather regression from 1/1/2012 --> 8/1/2019 to Natural Gas Consumption. \n",
    "\n",
    "    https://www.eia.gov/dnav/ng/ng_cons_sum_dcu_nus_m.htm   \n",
    "    \n",
    "2. Using SkLearn, regress to sum of: U.S. Natural Gas Residential Consumption (MMcf) + Natural Gas Deliveries to Commercial Consumers (Including Vehicle Fuel through 1996) in the U.S. (MMcf)\n",
    "\n",
    "3. What is R^2 ?\n",
    "\n",
    "4. Estimate October 2019!  What was the residual between your estimate and the actual."
   ]
  },
  {
   "cell_type": "code",
   "execution_count": 1,
   "metadata": {},
   "outputs": [],
   "source": [
    "import pandas as pd\n",
    "import numpy\n",
    "import pandas as pd\n",
    "import sklearn\n",
    "from matplotlib import pyplot as plt\n",
    "%matplotlib inline\n",
    "\n",
    "import plotly\n",
    "\n",
    "\n",
    "import plotly.graph_objects as go\n",
    "temp_df=pd.read_excel(\"C:\\Desktop\\SP24\\ML\\data\\weather-natgas.xlsx\", sheet_name='Weather')\n",
    "ng_df=pd.read_excel(\"C:\\Desktop\\SP24\\ML\\data\\weather-natgas.xlsx\", sheet_name='NatGas')\n"
   ]
  },
  {
   "cell_type": "code",
   "execution_count": 3,
   "metadata": {},
   "outputs": [],
   "source": [
    "temp_df['themonth'] = pd.to_datetime(temp_df['themonth'])\n",
    "ng_df['Date'] = pd.to_datetime(ng_df['Date'])"
   ]
  },
  {
   "cell_type": "code",
   "execution_count": 4,
   "metadata": {
    "scrolled": true
   },
   "outputs": [
    {
     "data": {
      "text/html": [
       "<div>\n",
       "<style scoped>\n",
       "    .dataframe tbody tr th:only-of-type {\n",
       "        vertical-align: middle;\n",
       "    }\n",
       "\n",
       "    .dataframe tbody tr th {\n",
       "        vertical-align: top;\n",
       "    }\n",
       "\n",
       "    .dataframe thead th {\n",
       "        text-align: right;\n",
       "    }\n",
       "</style>\n",
       "<table border=\"1\" class=\"dataframe\">\n",
       "  <thead>\n",
       "    <tr style=\"text-align: right;\">\n",
       "      <th></th>\n",
       "      <th>themonth</th>\n",
       "      <th>hdd</th>\n",
       "      <th>cdd</th>\n",
       "      <th>temp_natl</th>\n",
       "      <th>Date</th>\n",
       "      <th>U.S. Natural Gas Total Consumption (MMcf)</th>\n",
       "      <th>U.S. Natural Gas Lease and Plant Fuel Consumption (MMcf)</th>\n",
       "      <th>U.S. Natural Gas Pipeline &amp; Distribution Use (MMcf)</th>\n",
       "      <th>Natural Gas Delivered to Consumers in the U.S. (MMcf)</th>\n",
       "      <th>U.S. Natural Gas Residential Consumption (MMcf)</th>\n",
       "      <th>Natural Gas Deliveries to Commercial Consumers (Including Vehicle Fuel through 1996) in the U.S. (MMcf)</th>\n",
       "      <th>U.S. Natural Gas Industrial Consumption (MMcf)</th>\n",
       "      <th>U.S. Natural Gas Vehicle Fuel Consumption (MMcf)</th>\n",
       "      <th>U.S. Natural Gas Deliveries to Electric Power Consumers (MMcf)</th>\n",
       "      <th>ones</th>\n",
       "    </tr>\n",
       "  </thead>\n",
       "  <tbody>\n",
       "    <tr>\n",
       "      <th>27</th>\n",
       "      <td>2019-04-01</td>\n",
       "      <td>8.673257</td>\n",
       "      <td>1.523303</td>\n",
       "      <td>57.850047</td>\n",
       "      <td>2019-04-01</td>\n",
       "      <td>2201582</td>\n",
       "      <td>149778</td>\n",
       "      <td>63166</td>\n",
       "      <td>1988639</td>\n",
       "      <td>327642</td>\n",
       "      <td>248512</td>\n",
       "      <td>672132</td>\n",
       "      <td>4489</td>\n",
       "      <td>735863</td>\n",
       "      <td>1</td>\n",
       "    </tr>\n",
       "    <tr>\n",
       "      <th>28</th>\n",
       "      <td>2019-05-01</td>\n",
       "      <td>4.221135</td>\n",
       "      <td>4.262452</td>\n",
       "      <td>65.041316</td>\n",
       "      <td>2019-05-01</td>\n",
       "      <td>2121523</td>\n",
       "      <td>154091</td>\n",
       "      <td>60869</td>\n",
       "      <td>1906564</td>\n",
       "      <td>211616</td>\n",
       "      <td>185746</td>\n",
       "      <td>673190</td>\n",
       "      <td>4639</td>\n",
       "      <td>831373</td>\n",
       "      <td>1</td>\n",
       "    </tr>\n",
       "    <tr>\n",
       "      <th>29</th>\n",
       "      <td>2019-06-01</td>\n",
       "      <td>0.668620</td>\n",
       "      <td>7.894777</td>\n",
       "      <td>72.226157</td>\n",
       "      <td>2019-06-01</td>\n",
       "      <td>2115736</td>\n",
       "      <td>151035</td>\n",
       "      <td>60703</td>\n",
       "      <td>1903999</td>\n",
       "      <td>128761</td>\n",
       "      <td>144783</td>\n",
       "      <td>632673</td>\n",
       "      <td>4489</td>\n",
       "      <td>993293</td>\n",
       "      <td>1</td>\n",
       "    </tr>\n",
       "    <tr>\n",
       "      <th>30</th>\n",
       "      <td>2019-07-01</td>\n",
       "      <td>0.041155</td>\n",
       "      <td>12.464210</td>\n",
       "      <td>77.423055</td>\n",
       "      <td>2019-07-01</td>\n",
       "      <td>2408122</td>\n",
       "      <td>156039</td>\n",
       "      <td>69091</td>\n",
       "      <td>2182991</td>\n",
       "      <td>113482</td>\n",
       "      <td>143987</td>\n",
       "      <td>647345</td>\n",
       "      <td>4639</td>\n",
       "      <td>1273538</td>\n",
       "      <td>1</td>\n",
       "    </tr>\n",
       "    <tr>\n",
       "      <th>31</th>\n",
       "      <td>2019-08-01</td>\n",
       "      <td>0.081061</td>\n",
       "      <td>11.162419</td>\n",
       "      <td>76.081358</td>\n",
       "      <td>2019-08-01</td>\n",
       "      <td>2430780</td>\n",
       "      <td>159871</td>\n",
       "      <td>69741</td>\n",
       "      <td>2201168</td>\n",
       "      <td>101598</td>\n",
       "      <td>142116</td>\n",
       "      <td>664326</td>\n",
       "      <td>4639</td>\n",
       "      <td>1288489</td>\n",
       "      <td>1</td>\n",
       "    </tr>\n",
       "  </tbody>\n",
       "</table>\n",
       "</div>"
      ],
      "text/plain": [
       "     themonth       hdd        cdd  temp_natl       Date  \\\n",
       "27 2019-04-01  8.673257   1.523303  57.850047 2019-04-01   \n",
       "28 2019-05-01  4.221135   4.262452  65.041316 2019-05-01   \n",
       "29 2019-06-01  0.668620   7.894777  72.226157 2019-06-01   \n",
       "30 2019-07-01  0.041155  12.464210  77.423055 2019-07-01   \n",
       "31 2019-08-01  0.081061  11.162419  76.081358 2019-08-01   \n",
       "\n",
       "    U.S. Natural Gas Total Consumption (MMcf)  \\\n",
       "27                                    2201582   \n",
       "28                                    2121523   \n",
       "29                                    2115736   \n",
       "30                                    2408122   \n",
       "31                                    2430780   \n",
       "\n",
       "    U.S. Natural Gas Lease and Plant Fuel Consumption (MMcf)  \\\n",
       "27                                             149778          \n",
       "28                                             154091          \n",
       "29                                             151035          \n",
       "30                                             156039          \n",
       "31                                             159871          \n",
       "\n",
       "    U.S. Natural Gas Pipeline & Distribution Use (MMcf)  \\\n",
       "27                                              63166     \n",
       "28                                              60869     \n",
       "29                                              60703     \n",
       "30                                              69091     \n",
       "31                                              69741     \n",
       "\n",
       "    Natural Gas Delivered to Consumers in the U.S. (MMcf)  \\\n",
       "27                                            1988639       \n",
       "28                                            1906564       \n",
       "29                                            1903999       \n",
       "30                                            2182991       \n",
       "31                                            2201168       \n",
       "\n",
       "    U.S. Natural Gas Residential Consumption (MMcf)  \\\n",
       "27                                           327642   \n",
       "28                                           211616   \n",
       "29                                           128761   \n",
       "30                                           113482   \n",
       "31                                           101598   \n",
       "\n",
       "    Natural Gas Deliveries to Commercial Consumers (Including Vehicle Fuel through 1996) in the U.S. (MMcf)  \\\n",
       "27                                             248512                                                         \n",
       "28                                             185746                                                         \n",
       "29                                             144783                                                         \n",
       "30                                             143987                                                         \n",
       "31                                             142116                                                         \n",
       "\n",
       "    U.S. Natural Gas Industrial Consumption (MMcf)  \\\n",
       "27                                          672132   \n",
       "28                                          673190   \n",
       "29                                          632673   \n",
       "30                                          647345   \n",
       "31                                          664326   \n",
       "\n",
       "    U.S. Natural Gas Vehicle Fuel Consumption (MMcf)  \\\n",
       "27                                              4489   \n",
       "28                                              4639   \n",
       "29                                              4489   \n",
       "30                                              4639   \n",
       "31                                              4639   \n",
       "\n",
       "    U.S. Natural Gas Deliveries to Electric Power Consumers (MMcf)  ones  \n",
       "27                                             735863                  1  \n",
       "28                                             831373                  1  \n",
       "29                                             993293                  1  \n",
       "30                                            1273538                  1  \n",
       "31                                            1288489                  1  "
      ]
     },
     "execution_count": 4,
     "metadata": {},
     "output_type": "execute_result"
    }
   ],
   "source": [
    "m_df = temp_df.merge(ng_df, left_on=['themonth'], right_on=['Date'])\n",
    "m_df['ones'] = 1\n",
    "m_df.tail()"
   ]
  },
  {
   "cell_type": "code",
   "execution_count": 5,
   "metadata": {},
   "outputs": [],
   "source": [
    "X = m_df[[\"temp_natl\"]]\n",
    "y = m_df[\"U.S. Natural Gas Residential Consumption (MMcf)\"]"
   ]
  },
  {
   "cell_type": "code",
   "execution_count": 7,
   "metadata": {},
   "outputs": [
    {
     "data": {
      "text/plain": [
       "LinearRegression()"
      ]
     },
     "execution_count": 7,
     "metadata": {},
     "output_type": "execute_result"
    }
   ],
   "source": [
    "from sklearn.linear_model import LinearRegression\n",
    "model = LinearRegression()\n",
    "model.fit(X, y)"
   ]
  },
  {
   "cell_type": "code",
   "execution_count": 8,
   "metadata": {},
   "outputs": [
    {
     "data": {
      "text/plain": [
       "0.9402280087527911"
      ]
     },
     "execution_count": 8,
     "metadata": {},
     "output_type": "execute_result"
    }
   ],
   "source": [
    "pred1 = model.predict(X)\n",
    "score1 = model.score(X, y)\n",
    "score1"
   ]
  },
  {
   "cell_type": "code",
   "execution_count": 9,
   "metadata": {},
   "outputs": [
    {
     "data": {
      "text/plain": [
       "0.9423994988358022"
      ]
     },
     "execution_count": 9,
     "metadata": {},
     "output_type": "execute_result"
    }
   ],
   "source": [
    "X1 = m_df[[\"temp_natl\"]]\n",
    "y1 = m_df[\"U.S. Natural Gas Residential Consumption (MMcf)\"] + m_df[\"Natural Gas Deliveries to Commercial Consumers (Including Vehicle Fuel through 1996) in the U.S. (MMcf)\"]\n",
    "\n",
    "model1 = LinearRegression()\n",
    "model1.fit(X1, y1)\n",
    "\n",
    "pred2= model1.predict(X1)\n",
    "score2 = model1.score(X1, y1)\n",
    "score2"
   ]
  },
  {
   "cell_type": "code",
   "execution_count": 10,
   "metadata": {
    "scrolled": true
   },
   "outputs": [
    {
     "name": "stdout",
     "output_type": "stream",
     "text": [
      "R^2 Score: 0.9402280087527911\n"
     ]
    }
   ],
   "source": [
    "r_squared = model.score(X, y)\n",
    "print(\"R^2 Score:\", r_squared)"
   ]
  },
  {
   "cell_type": "code",
   "execution_count": 11,
   "metadata": {},
   "outputs": [
    {
     "name": "stdout",
     "output_type": "stream",
     "text": [
      "R^2 Score: 0.9402280087527911\n"
     ]
    }
   ],
   "source": [
    "r_squared1 = model.score(X1, y1)\n",
    "print(\"R^2 Score:\", r_squared)"
   ]
  },
  {
   "cell_type": "code",
   "execution_count": 13,
   "metadata": {},
   "outputs": [
    {
     "name": "stdout",
     "output_type": "stream",
     "text": [
      "Residual on 1st Model - -61662.2382\n",
      "Residual on 2nd Model - -96648.5334\n"
     ]
    }
   ],
   "source": [
    "X2 = m_df[[\"temp_natl\"]][m_df[\"themonth\"] == \"2019-08-01\"]\n",
    "y21 = m_df[\"U.S. Natural Gas Residential Consumption (MMcf)\"][m_df[\"themonth\"] == \"2019-08-01\"]\n",
    "\n",
    "temp1 = m_df[\"U.S. Natural Gas Residential Consumption (MMcf)\"][m_df[\"themonth\"] == \"2019-08-01\"]\n",
    "temp2 = m_df[\"Natural Gas Deliveries to Commercial Consumers (Including Vehicle Fuel through 1996) in the U.S. (MMcf)\"][m_df[\"themonth\"] == \"2019-08-01\"]\n",
    "y22 = temp1 + temp2\n",
    "\n",
    "_pred1 = model.predict(X2)\n",
    "_pred2 = model1.predict(X2)\n",
    "\n",
    "_res1 = _pred1 - y21\n",
    "_res2 = _pred2 - y22\n",
    "\n",
    "print(f\"Residual on 1st Model - {round(_res1[31], 4)}\")\n",
    "print(f\"Residual on 2nd Model - {round(_res2[31], 4)}\")"
   ]
  },
  {
   "cell_type": "code",
   "execution_count": 16,
   "metadata": {},
   "outputs": [
    {
     "data": {
      "text/plain": [
       "'0.12.2'"
      ]
     },
     "execution_count": 16,
     "metadata": {},
     "output_type": "execute_result"
    }
   ],
   "source": [
    "import statsmodels.api as sm\n",
    "import statsmodels\n",
    "statsmodels.__version__"
   ]
  },
  {
   "cell_type": "code",
   "execution_count": 22,
   "metadata": {},
   "outputs": [
    {
     "data": {
      "text/html": [
       "<table class=\"simpletable\">\n",
       "<caption>OLS Regression Results</caption>\n",
       "<tr>\n",
       "  <th>Dep. Variable:</th>    <td>U.S. Natural Gas Residential Consumption (MMcf)</td> <th>  R-squared:         </th> <td>   0.940</td>\n",
       "</tr>\n",
       "<tr>\n",
       "  <th>Model:</th>                                  <td>OLS</td>                       <th>  Adj. R-squared:    </th> <td>   0.938</td>\n",
       "</tr>\n",
       "<tr>\n",
       "  <th>Method:</th>                            <td>Least Squares</td>                  <th>  F-statistic:       </th> <td>   471.9</td>\n",
       "</tr>\n",
       "<tr>\n",
       "  <th>Date:</th>                            <td>Wed, 20 Mar 2024</td>                 <th>  Prob (F-statistic):</th> <td>6.60e-20</td>\n",
       "</tr>\n",
       "<tr>\n",
       "  <th>Time:</th>                                <td>23:49:58</td>                     <th>  Log-Likelihood:    </th> <td> -403.27</td>\n",
       "</tr>\n",
       "<tr>\n",
       "  <th>No. Observations:</th>                     <td>    32</td>                      <th>  AIC:               </th> <td>   810.5</td>\n",
       "</tr>\n",
       "<tr>\n",
       "  <th>Df Residuals:</th>                         <td>    30</td>                      <th>  BIC:               </th> <td>   813.5</td>\n",
       "</tr>\n",
       "<tr>\n",
       "  <th>Df Model:</th>                             <td>     1</td>                      <th>                     </th>     <td> </td>   \n",
       "</tr>\n",
       "<tr>\n",
       "  <th>Covariance Type:</th>                     <td>nonrobust</td>                    <th>                     </th>     <td> </td>   \n",
       "</tr>\n",
       "</table>\n",
       "<table class=\"simpletable\">\n",
       "<tr>\n",
       "      <td></td>         <th>coef</th>     <th>std err</th>      <th>t</th>      <th>P>|t|</th>  <th>[0.025</th>    <th>0.975]</th>  \n",
       "</tr>\n",
       "<tr>\n",
       "  <th>temp_natl</th> <td>-2.064e+04</td> <td>  950.156</td> <td>  -21.723</td> <td> 0.000</td> <td>-2.26e+04</td> <td>-1.87e+04</td>\n",
       "</tr>\n",
       "<tr>\n",
       "  <th>ones</th>      <td>  1.61e+06</td> <td> 5.73e+04</td> <td>   28.088</td> <td> 0.000</td> <td> 1.49e+06</td> <td> 1.73e+06</td>\n",
       "</tr>\n",
       "</table>\n",
       "<table class=\"simpletable\">\n",
       "<tr>\n",
       "  <th>Omnibus:</th>       <td> 1.974</td> <th>  Durbin-Watson:     </th> <td>   1.203</td>\n",
       "</tr>\n",
       "<tr>\n",
       "  <th>Prob(Omnibus):</th> <td> 0.373</td> <th>  Jarque-Bera (JB):  </th> <td>   1.148</td>\n",
       "</tr>\n",
       "<tr>\n",
       "  <th>Skew:</th>          <td>-0.040</td> <th>  Prob(JB):          </th> <td>   0.563</td>\n",
       "</tr>\n",
       "<tr>\n",
       "  <th>Kurtosis:</th>      <td> 2.075</td> <th>  Cond. No.          </th> <td>    264.</td>\n",
       "</tr>\n",
       "</table><br/><br/>Notes:<br/>[1] Standard Errors assume that the covariance matrix of the errors is correctly specified."
      ],
      "text/plain": [
       "<class 'statsmodels.iolib.summary.Summary'>\n",
       "\"\"\"\n",
       "                                           OLS Regression Results                                          \n",
       "===========================================================================================================\n",
       "Dep. Variable:     U.S. Natural Gas Residential Consumption (MMcf)   R-squared:                       0.940\n",
       "Model:                                                         OLS   Adj. R-squared:                  0.938\n",
       "Method:                                              Least Squares   F-statistic:                     471.9\n",
       "Date:                                             Wed, 20 Mar 2024   Prob (F-statistic):           6.60e-20\n",
       "Time:                                                     23:49:58   Log-Likelihood:                -403.27\n",
       "No. Observations:                                               32   AIC:                             810.5\n",
       "Df Residuals:                                                   30   BIC:                             813.5\n",
       "Df Model:                                                        1                                         \n",
       "Covariance Type:                                         nonrobust                                         \n",
       "==============================================================================\n",
       "                 coef    std err          t      P>|t|      [0.025      0.975]\n",
       "------------------------------------------------------------------------------\n",
       "temp_natl  -2.064e+04    950.156    -21.723      0.000   -2.26e+04   -1.87e+04\n",
       "ones         1.61e+06   5.73e+04     28.088      0.000    1.49e+06    1.73e+06\n",
       "==============================================================================\n",
       "Omnibus:                        1.974   Durbin-Watson:                   1.203\n",
       "Prob(Omnibus):                  0.373   Jarque-Bera (JB):                1.148\n",
       "Skew:                          -0.040   Prob(JB):                        0.563\n",
       "Kurtosis:                       2.075   Cond. No.                         264.\n",
       "==============================================================================\n",
       "\n",
       "Notes:\n",
       "[1] Standard Errors assume that the covariance matrix of the errors is correctly specified.\n",
       "\"\"\""
      ]
     },
     "execution_count": 22,
     "metadata": {},
     "output_type": "execute_result"
    }
   ],
   "source": [
    "model1 = sm.OLS(y, m_df[[\"temp_natl\", \"ones\"]])\n",
    "res1 = model1.fit()\n",
    "res1.summary()"
   ]
  },
  {
   "cell_type": "code",
   "execution_count": 23,
   "metadata": {},
   "outputs": [
    {
     "data": {
      "text/html": [
       "<table class=\"simpletable\">\n",
       "<caption>OLS Regression Results</caption>\n",
       "<tr>\n",
       "  <th>Dep. Variable:</th>            <td>y</td>        <th>  R-squared:         </th> <td>   0.942</td>\n",
       "</tr>\n",
       "<tr>\n",
       "  <th>Model:</th>                   <td>OLS</td>       <th>  Adj. R-squared:    </th> <td>   0.940</td>\n",
       "</tr>\n",
       "<tr>\n",
       "  <th>Method:</th>             <td>Least Squares</td>  <th>  F-statistic:       </th> <td>   490.8</td>\n",
       "</tr>\n",
       "<tr>\n",
       "  <th>Date:</th>             <td>Wed, 20 Mar 2024</td> <th>  Prob (F-statistic):</th> <td>3.79e-20</td>\n",
       "</tr>\n",
       "<tr>\n",
       "  <th>Time:</th>                 <td>23:50:03</td>     <th>  Log-Likelihood:    </th> <td> -415.32</td>\n",
       "</tr>\n",
       "<tr>\n",
       "  <th>No. Observations:</th>      <td>    32</td>      <th>  AIC:               </th> <td>   834.6</td>\n",
       "</tr>\n",
       "<tr>\n",
       "  <th>Df Residuals:</th>          <td>    30</td>      <th>  BIC:               </th> <td>   837.6</td>\n",
       "</tr>\n",
       "<tr>\n",
       "  <th>Df Model:</th>              <td>     1</td>      <th>                     </th>     <td> </td>   \n",
       "</tr>\n",
       "<tr>\n",
       "  <th>Covariance Type:</th>      <td>nonrobust</td>    <th>                     </th>     <td> </td>   \n",
       "</tr>\n",
       "</table>\n",
       "<table class=\"simpletable\">\n",
       "<tr>\n",
       "      <td></td>         <th>coef</th>     <th>std err</th>      <th>t</th>      <th>P>|t|</th>  <th>[0.025</th>    <th>0.975]</th>  \n",
       "</tr>\n",
       "<tr>\n",
       "  <th>temp_natl</th> <td>-3.068e+04</td> <td> 1384.920</td> <td>  -22.155</td> <td> 0.000</td> <td>-3.35e+04</td> <td>-2.79e+04</td>\n",
       "</tr>\n",
       "<tr>\n",
       "  <th>ones</th>      <td> 2.481e+06</td> <td> 8.36e+04</td> <td>   29.695</td> <td> 0.000</td> <td> 2.31e+06</td> <td> 2.65e+06</td>\n",
       "</tr>\n",
       "</table>\n",
       "<table class=\"simpletable\">\n",
       "<tr>\n",
       "  <th>Omnibus:</th>       <td> 2.699</td> <th>  Durbin-Watson:     </th> <td>   1.215</td>\n",
       "</tr>\n",
       "<tr>\n",
       "  <th>Prob(Omnibus):</th> <td> 0.259</td> <th>  Jarque-Bera (JB):  </th> <td>   1.330</td>\n",
       "</tr>\n",
       "<tr>\n",
       "  <th>Skew:</th>          <td> 0.002</td> <th>  Prob(JB):          </th> <td>   0.514</td>\n",
       "</tr>\n",
       "<tr>\n",
       "  <th>Kurtosis:</th>      <td> 2.001</td> <th>  Cond. No.          </th> <td>    264.</td>\n",
       "</tr>\n",
       "</table><br/><br/>Notes:<br/>[1] Standard Errors assume that the covariance matrix of the errors is correctly specified."
      ],
      "text/plain": [
       "<class 'statsmodels.iolib.summary.Summary'>\n",
       "\"\"\"\n",
       "                            OLS Regression Results                            \n",
       "==============================================================================\n",
       "Dep. Variable:                      y   R-squared:                       0.942\n",
       "Model:                            OLS   Adj. R-squared:                  0.940\n",
       "Method:                 Least Squares   F-statistic:                     490.8\n",
       "Date:                Wed, 20 Mar 2024   Prob (F-statistic):           3.79e-20\n",
       "Time:                        23:50:03   Log-Likelihood:                -415.32\n",
       "No. Observations:                  32   AIC:                             834.6\n",
       "Df Residuals:                      30   BIC:                             837.6\n",
       "Df Model:                           1                                         \n",
       "Covariance Type:            nonrobust                                         \n",
       "==============================================================================\n",
       "                 coef    std err          t      P>|t|      [0.025      0.975]\n",
       "------------------------------------------------------------------------------\n",
       "temp_natl  -3.068e+04   1384.920    -22.155      0.000   -3.35e+04   -2.79e+04\n",
       "ones        2.481e+06   8.36e+04     29.695      0.000    2.31e+06    2.65e+06\n",
       "==============================================================================\n",
       "Omnibus:                        2.699   Durbin-Watson:                   1.215\n",
       "Prob(Omnibus):                  0.259   Jarque-Bera (JB):                1.330\n",
       "Skew:                           0.002   Prob(JB):                        0.514\n",
       "Kurtosis:                       2.001   Cond. No.                         264.\n",
       "==============================================================================\n",
       "\n",
       "Notes:\n",
       "[1] Standard Errors assume that the covariance matrix of the errors is correctly specified.\n",
       "\"\"\""
      ]
     },
     "execution_count": 23,
     "metadata": {},
     "output_type": "execute_result"
    }
   ],
   "source": [
    "model2 = sm.OLS(y1, m_df[[\"temp_natl\", \"ones\"]])\n",
    "res2 = model2.fit()\n",
    "res2.summary()"
   ]
  },
  {
   "cell_type": "code",
   "execution_count": 25,
   "metadata": {},
   "outputs": [
    {
     "name": "stdout",
     "output_type": "stream",
     "text": [
      "Residual on 1st Model - -61662.2382\n",
      "Residual on 2nd Model - -96648.5334\n"
     ]
    }
   ],
   "source": [
    "X3_sm = m_df[[\"temp_natl\", \"ones\"]][m_df[\"themonth\"] == \"2019-08-01\"]\n",
    "pred_sm_1 = res1.predict(X3_sm)\n",
    "res_sm_1 = pred_sm_1 - y21\n",
    "\n",
    "pred_sm_2 = res2.predict(X3_sm)\n",
    "res_sm_2 = pred_sm_2 - y22\n",
    "\n",
    "print(f\"Residual on 1st Model - {round(res_sm_1[31], 4)}\")\n",
    "print(f\"Residual on 2nd Model - {round(res_sm_2[31], 4)}\")"
   ]
  },
  {
   "cell_type": "markdown",
   "metadata": {},
   "source": [
    "\n",
    "###### Build a logistic Regression targeting income above / below 50k...\n",
    "\n",
    "Review Example."
   ]
  },
  {
   "cell_type": "code",
   "execution_count": 35,
   "metadata": {},
   "outputs": [
    {
     "name": "stdout",
     "output_type": "stream",
     "text": [
      "Training Accuracy: 0.7868348987792082\n",
      "Testing Accuracy: 0.7925069096120381\n",
      "Classification Report for Testing Data:\n",
      "              precision    recall  f1-score   support\n",
      "\n",
      "           0       0.82      0.94      0.87      7479\n",
      "           1       0.62      0.30      0.41      2290\n",
      "\n",
      "    accuracy                           0.79      9769\n",
      "   macro avg       0.72      0.62      0.64      9769\n",
      "weighted avg       0.77      0.79      0.76      9769\n",
      "\n",
      "Top 5 features contributing to income above $50k:\n",
      "            Feature  Coefficient\n",
      "0               age     0.016653\n",
      "12   hours-per-week     0.009620\n",
      "4   educational-num     0.003458\n",
      "9            gender     0.001522\n",
      "11     capital-loss     0.000772\n"
     ]
    }
   ],
   "source": [
    "import pandas as pd\n",
    "from sklearn.model_selection import train_test_split\n",
    "from sklearn.preprocessing import LabelEncoder\n",
    "from sklearn.linear_model import LogisticRegression\n",
    "from sklearn.metrics import accuracy_score, classification_report\n",
    "\n",
    "# Load the dataset\n",
    "url = \"C:/Desktop/SP24/ML/data/income/adult.csv\"\n",
    "df = pd.read_csv(url)\n",
    "\n",
    "df = df.fillna(method='ffill')\n",
    "\n",
    "label_encoders = {}\n",
    "for column in df.select_dtypes(include=['object']).columns:\n",
    "    label_encoders[column] = LabelEncoder()\n",
    "    df[column] = label_encoders[column].fit_transform(df[column])\n",
    "\n",
    "X = df.drop(columns=['income'])\n",
    "y = df['income']\n",
    "\n",
    "X_train, X_test, y_train, y_test = train_test_split(X, y, test_size=0.2, random_state=42)\n",
    "\n",
    "model = LogisticRegression(max_iter=1000)\n",
    "model.fit(X_train, y_train)\n",
    "\n",
    "y_pred_train = model.predict(X_train)\n",
    "train_accuracy = accuracy_score(y_train, y_pred_train)\n",
    "print(\"Training Accuracy:\", train_accuracy)\n",
    "\n",
    "y_pred_test = model.predict(X_test)\n",
    "test_accuracy = accuracy_score(y_test, y_pred_test)\n",
    "print(\"Testing Accuracy:\", test_accuracy)\n",
    "\n",
    "print(\"Classification Report for Testing Data:\")\n",
    "print(classification_report(y_test, y_pred_test))\n",
    "\n",
    "coefficients = pd.DataFrame({'Feature': X.columns, 'Coefficient': model.coef_[0]})\n",
    "coefficients = coefficients.sort_values(by='Coefficient', ascending=False)\n",
    "print(\"Top 5 features contributing to income above $50k:\")\n",
    "print(coefficients.head(5))\n"
   ]
  },
  {
   "cell_type": "markdown",
   "metadata": {},
   "source": [
    "###### Let's take a look at the sklearn California housing dataset from previous weeks \n",
    "\n",
    "... A)  reviewing a multivariate regression from this week's content \n",
    "\n",
    "... B) Comparing the results from the multivariate linear regression to a random forest by building a RF.  You've built a random forest on this dataset before.  Note the differences in model accuracy between the linear regression and RF."
   ]
  },
  {
   "cell_type": "code",
   "execution_count": 34,
   "metadata": {},
   "outputs": [
    {
     "name": "stdout",
     "output_type": "stream",
     "text": [
      "Mean Squared Error: 0.5075176386746472\n"
     ]
    }
   ],
   "source": [
    "from sklearn.datasets import fetch_california_housing\n",
    "from sklearn.model_selection import train_test_split\n",
    "from sklearn.metrics import mean_squared_error\n",
    "\n",
    "data = fetch_california_housing()\n",
    "X = pd.DataFrame(data.data, columns=data.feature_names)\n",
    "y = data.target\n",
    "\n",
    "X_train, X_test, y_train, y_test = train_test_split(X, y, test_size=0.2, random_state=22)\n",
    "\n",
    "# Initialize and fit the linear regression model\n",
    "model = LinearRegression()\n",
    "model.fit(X_train, y_train)\n",
    "\n",
    "# Predict on the testing set\n",
    "y_pred = model.predict(X_test)\n",
    "\n",
    "# Evaluate the model\n",
    "mse = mean_squared_error(y_test, y_pred)\n",
    "print(\"Mean Squared Error:\", mse)\n"
   ]
  },
  {
   "cell_type": "code",
   "execution_count": 25,
   "metadata": {},
   "outputs": [
    {
     "name": "stdout",
     "output_type": "stream",
     "text": [
      "Random Forest Mean Squared Error: 0.25681060775162295\n"
     ]
    }
   ],
   "source": [
    "from sklearn.ensemble import RandomForestRegressor\n",
    "\n",
    "rf_model = RandomForestRegressor(n_estimators=100, random_state=42)\n",
    "rf_model.fit(X_train, y_train)\n",
    "\n",
    "rf_y_pred = rf_model.predict(X_test)\n",
    "\n",
    "rf_mse = mean_squared_error(y_test, rf_y_pred)\n",
    "print(\"Random Forest Mean Squared Error:\", rf_mse)"
   ]
  },
  {
   "cell_type": "markdown",
   "metadata": {},
   "source": [
    "The main difference between multivariate linear regression and Random Forest lies in their modeling approach and complexity. Linear regression assumes a linear relationship between the features and the target variable, while Random Forest can capture more complex nonlinear relationships between the features and the target variable. As a result, Random Forest may achieve better performance when the relationship is nonlinear or when there are interactions between features."
   ]
  },
  {
   "cell_type": "code",
   "execution_count": null,
   "metadata": {},
   "outputs": [],
   "source": []
  }
 ],
 "metadata": {
  "kernelspec": {
   "display_name": "Python 3 (ipykernel)",
   "language": "python",
   "name": "python3"
  },
  "language_info": {
   "codemirror_mode": {
    "name": "ipython",
    "version": 3
   },
   "file_extension": ".py",
   "mimetype": "text/x-python",
   "name": "python",
   "nbconvert_exporter": "python",
   "pygments_lexer": "ipython3",
   "version": "3.9.7"
  },
  "varInspector": {
   "cols": {
    "lenName": 16,
    "lenType": 16,
    "lenVar": 40
   },
   "kernels_config": {
    "python": {
     "delete_cmd_postfix": "",
     "delete_cmd_prefix": "del ",
     "library": "var_list.py",
     "varRefreshCmd": "print(var_dic_list())"
    },
    "r": {
     "delete_cmd_postfix": ") ",
     "delete_cmd_prefix": "rm(",
     "library": "var_list.r",
     "varRefreshCmd": "cat(var_dic_list()) "
    }
   },
   "types_to_exclude": [
    "module",
    "function",
    "builtin_function_or_method",
    "instance",
    "_Feature"
   ],
   "window_display": false
  }
 },
 "nbformat": 4,
 "nbformat_minor": 4
}
